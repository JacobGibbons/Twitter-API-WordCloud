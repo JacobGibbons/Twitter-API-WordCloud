{
 "cells": [
  {
   "cell_type": "code",
   "execution_count": 1,
   "metadata": {},
   "outputs": [],
   "source": [
    "import tweepy as tw\n",
    "import re\n",
    "import time\n",
    "from Keys import *\n",
    "import datetime\n",
    "import os.path\n",
    "import csv\n",
    "\n",
    "\n",
    "class TweetSearch():\n",
    "    def __init__(self,filename,search_words,search_terms):\n",
    "        auth = tw.OAuthHandler(Key, Secret)\n",
    "        api = tw.API(auth)\n",
    "        terms_grouped = []\n",
    "        f = open(filename, 'a').close()\n",
    "        tweet_ids = set()\n",
    "\n",
    "        with open(filename) as csvfilename:\n",
    "             reader = csv.reader(csvfilename)\n",
    "             for id,_,_ in reader:\n",
    "                 tweet_ids.add(id)\n",
    "\n",
    "        f = open(filename, 'a')\n",
    "        c = csv.writer(f, quoting=csv.QUOTE_ALL)\n",
    "\n",
    "        while True:\n",
    "            for i in range(0,len(search_terms),4):\n",
    "                group = search_terms[i:i+4]\n",
    "                query_string = \" OR \".join(search_words)+\" \"+\" OR \".join(group)+' -filter:retweets'\n",
    "\n",
    "                try:\n",
    "                    tweets = tw.Cursor(api.search, q=query_string, count=100, lang='en', tweet_mode=\"extended\").items(100)\n",
    "\n",
    "                    for tweet in tweets:\n",
    "                        if tweet.id in tweet_ids:\n",
    "                            continue\n",
    "                        tweet_ids.add(tweet.id)\n",
    "                        posttime = tweet.created_at\n",
    "\n",
    "                        if 'retweeted_status' in dir(tweet):\n",
    "                           text=tweet.retweeted_status.full_text\n",
    "                        else:\n",
    "                           text=tweet.full_text\n",
    "\n",
    "                        text = re.sub(r'https:\\/\\/t.co\\S{1,11}', '', text, flags=re.MULTILINE)\n",
    "                        print(text)\n",
    "\n",
    "                        c.writerow([str(tweet.id), str(posttime),text.replace(\"\\n\", \" \")])\n",
    "                        f.flush()\n",
    "\n",
    "                except tw.TweepError:\n",
    "                    print(\"Error: too many requests\")\n",
    "                    time.sleep(300)\n",
    "                time.sleep(10)\n",
    "        f.close()\n"
   ]
  }
 ],
 "metadata": {
  "kernelspec": {
   "display_name": "Python 3",
   "language": "python",
   "name": "python3"
  },
  "language_info": {
   "codemirror_mode": {
    "name": "ipython",
    "version": 3
   },
   "file_extension": ".py",
   "mimetype": "text/x-python",
   "name": "python",
   "nbconvert_exporter": "python",
   "pygments_lexer": "ipython3",
   "version": "3.7.3"
  }
 },
 "nbformat": 4,
 "nbformat_minor": 2
}
