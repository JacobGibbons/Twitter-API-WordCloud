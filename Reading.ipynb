{
 "cells": [
  {
   "cell_type": "code",
   "execution_count": null,
   "metadata": {},
   "outputs": [],
   "source": [
    "from TweetSearch import TweetSearch\n",
    "\n",
    "search_words = ['#rdguk','#Reading2050']\n",
    "search_terms = ['Traffic','Transport','Mobility','Bicycle','Congestion',\n",
    "'Parking','\\\"Private Vehicles\\\"','\\\"Rapid Transit\\\"','Pollution','\\\"Multi Modal\\\"',\n",
    "'Roads','\\\"Electric Vehicles\\\"','Bus','\\\"Smart Cities\\\"','Car','Road','Walk',\n",
    "'Pavement','Pedestrian','Electric','\\\"Traffic lights\\\"','Motorway']\n",
    "filename = 'Reading_TweetList.txt'"
   ]
  },
  {
   "cell_type": "code",
   "execution_count": null,
   "metadata": {},
   "outputs": [],
   "source": [
    "searcher = TweetSearch(filename,search_words,search_terms)"
   ]
  }
 ],
 "metadata": {
  "kernelspec": {
   "display_name": "Python 3",
   "language": "python",
   "name": "python3"
  },
  "language_info": {
   "codemirror_mode": {
    "name": "ipython",
    "version": 3
   },
   "file_extension": ".py",
   "mimetype": "text/x-python",
   "name": "python",
   "nbconvert_exporter": "python",
   "pygments_lexer": "ipython3",
   "version": "3.7.3"
  }
 },
 "nbformat": 4,
 "nbformat_minor": 2
}
